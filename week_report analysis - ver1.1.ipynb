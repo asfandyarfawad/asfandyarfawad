{
 "cells": [
  {
   "cell_type": "code",
   "execution_count": 1,
   "id": "e3b51d95",
   "metadata": {},
   "outputs": [],
   "source": [
    "import pandas as pd\n",
    "import seaborn as sns\n",
    "import numpy as np"
   ]
  },
  {
   "cell_type": "code",
   "execution_count": 2,
   "id": "fbaeef82",
   "metadata": {},
   "outputs": [],
   "source": [
    "df = pd.read_excel(\"week_report.xlsx\")"
   ]
  },
  {
   "cell_type": "code",
   "execution_count": 3,
   "id": "cedaee75",
   "metadata": {},
   "outputs": [],
   "source": [
    "df.drop({'Start\\nLocation'},axis=1,inplace=True)"
   ]
  },
  {
   "cell_type": "code",
   "execution_count": 4,
   "id": "4dd0059f",
   "metadata": {},
   "outputs": [],
   "source": [
    "a=df[df.Organization.str.lower().str.contains('pop')].index\n",
    "df.drop(a,inplace=True)"
   ]
  },
  {
   "cell_type": "code",
   "execution_count": 5,
   "id": "bba6b653",
   "metadata": {},
   "outputs": [],
   "source": [
    "b = df[df['Organization'].str.lower().str.contains(r'\\boffice\\b')].index\n",
    "df.drop(b,inplace=True)"
   ]
  },
  {
   "cell_type": "code",
   "execution_count": 6,
   "id": "60636a1f",
   "metadata": {},
   "outputs": [],
   "source": [
    "df['Customer\\nName 1'] = df['Customer\\nName 1'].str.split(',\\s*')\n",
    "\n",
    "# Explode the column containing lists into separate rows\n",
    "df = df.explode('Customer\\nName 1', ignore_index=True)"
   ]
  },
  {
   "cell_type": "code",
   "execution_count": 7,
   "id": "b900da3a",
   "metadata": {},
   "outputs": [],
   "source": [
    "df['Date'] = pd.to_datetime((pd.to_datetime(df['Date'])).dt.strftime('%Y-%m-%d'))"
   ]
  },
  {
   "cell_type": "code",
   "execution_count": 8,
   "id": "95258a54",
   "metadata": {},
   "outputs": [],
   "source": [
    "df['Date']=pd.to_datetime(df['Date']).dt.strftime('%Y-%m-%d')"
   ]
  },
  {
   "cell_type": "code",
   "execution_count": 9,
   "id": "a80185d7",
   "metadata": {},
   "outputs": [],
   "source": [
    "import pickle"
   ]
  },
  {
   "cell_type": "code",
   "execution_count": 10,
   "id": "03533282",
   "metadata": {},
   "outputs": [],
   "source": [
    "with open('new_data.pkl', 'wb') as file:\n",
    "    pickle.dump(df, file)\n"
   ]
  },
  {
   "cell_type": "code",
   "execution_count": null,
   "id": "b1b7b06b",
   "metadata": {},
   "outputs": [],
   "source": [
    "# df.to_excel('clean_rep.xlsx')"
   ]
  },
  {
   "cell_type": "markdown",
   "id": "b51e988f",
   "metadata": {},
   "source": [
    "# function"
   ]
  },
  {
   "cell_type": "code",
   "execution_count": 11,
   "id": "2902edda",
   "metadata": {},
   "outputs": [],
   "source": [
    "def org_count(person_name):\n",
    "    person_name = str(person_name)\n",
    "    name_ref = df[df['Name'] == person_name]['Organization'].unique()\n",
    "    unique_counts = np.unique(name_ref, return_counts=True)[1]\n",
    "    return unique_counts.sum()"
   ]
  },
  {
   "cell_type": "markdown",
   "id": "188fc7c7",
   "metadata": {},
   "source": [
    "# function"
   ]
  },
  {
   "cell_type": "code",
   "execution_count": 12,
   "id": "7021e6e4",
   "metadata": {},
   "outputs": [],
   "source": [
    "def customer_count(person_name):\n",
    "    cond_1 = df[df['Customer\\nName 1'].notnull()]\n",
    "    name_ref_1 = cond_1[cond_1['Name'] == person_name]['Customer\\nName 1'].unique()\n",
    "    name_ref_1 = name_ref_1.astype(str)\n",
    "    unique_count = np.unique(name_ref_1, return_counts=True)[1]\n",
    "    return unique_count.sum()"
   ]
  },
  {
   "cell_type": "code",
   "execution_count": 13,
   "id": "c5c0d083",
   "metadata": {},
   "outputs": [],
   "source": [
    "def visits(person_name):\n",
    "    no_of_visits = df[df['Name']==person_name]['Organization'].count()\n",
    "    return no_of_visits"
   ]
  },
  {
   "cell_type": "code",
   "execution_count": null,
   "id": "e08a69e7",
   "metadata": {},
   "outputs": [],
   "source": []
  },
  {
   "cell_type": "code",
   "execution_count": null,
   "id": "178ca299",
   "metadata": {},
   "outputs": [],
   "source": []
  }
 ],
 "metadata": {
  "kernelspec": {
   "display_name": "Python 3.11.4",
   "language": "python",
   "name": "python3.11.4"
  },
  "language_info": {
   "codemirror_mode": {
    "name": "ipython",
    "version": 3
   },
   "file_extension": ".py",
   "mimetype": "text/x-python",
   "name": "python",
   "nbconvert_exporter": "python",
   "pygments_lexer": "ipython3",
   "version": "3.11.4"
  }
 },
 "nbformat": 4,
 "nbformat_minor": 5
}
